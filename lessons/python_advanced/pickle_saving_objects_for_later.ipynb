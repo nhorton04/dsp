{
 "cells": [
  {
   "cell_type": "code",
   "execution_count": 92,
   "metadata": {},
   "outputs": [
    {
     "name": "stdout",
     "output_type": "stream",
     "text": [
      "Python Version: 3.7.6 (default, Jan  8 2020, 19:59:22) \n",
      "[GCC 7.3.0] \n",
      "\n"
     ]
    }
   ],
   "source": [
    "import sys\n",
    "print(\"Python Version:\", sys.version, '\\n')"
   ]
  },
  {
   "cell_type": "markdown",
   "metadata": {},
   "source": [
    "# Pickle: Saving Objects for Later"
   ]
  },
  {
   "cell_type": "markdown",
   "metadata": {},
   "source": [
    "Often in data science, we'll create some model or some version of our data and want to use it later. We have many options - we can save the coefficients, or save the data to csv, or...\n",
    "\n",
    "Actually, we don't have that many options. \n",
    "\n",
    "One way to overcome that is to save the python object to a file as a serialized object. That means we convert the entire object to a bunch of bytes, save those bytes into a file, and then have the ability to unpack those bytes back into their original format later. \n",
    "\n",
    "This is done by a module called `pickle`. Let's see it in action."
   ]
  },
  {
   "cell_type": "code",
   "execution_count": 93,
   "metadata": {},
   "outputs": [],
   "source": [
    "import pickle\n",
    "import random\n",
    "\n",
    "lots_of_noise = {\n",
    "    'CA': [random.randint(0,65) for _ in range(100)],\n",
    "    'IL': [random.randint(0,65) for _ in range(50)],\n",
    "    'NY': [random.randint(0,65) for _ in range(90)],\n",
    "    'WA': [random.randint(0,65) for _ in range(33)]\n",
    "}"
   ]
  },
  {
   "cell_type": "code",
   "execution_count": 94,
   "metadata": {},
   "outputs": [
    {
     "name": "stdout",
     "output_type": "stream",
     "text": [
      "{'CA': [42, 42, 19, 63, 16, 48, 34, 64, 56, 43, 32, 16, 6, 53, 53, 6, 8, 60, 48, 50, 5, 30, 23, 16, 12, 6, 43, 47, 40, 33, 63, 62, 42, 49, 0, 52, 59, 56, 24, 11, 8, 23, 22, 51, 11, 12, 20, 25, 39, 3, 57, 58, 48, 0, 0, 51, 59, 48, 19, 63, 12, 8, 40, 8, 28, 51, 21, 0, 16, 51, 3, 0, 50, 56, 62, 11, 64, 33, 45, 51, 16, 46, 40, 9, 10, 3, 65, 63, 12, 43, 15, 17, 50, 3, 54, 49, 52, 1, 41, 45], 'IL': [44, 16, 51, 58, 6, 24, 45, 19, 5, 64, 40, 32, 48, 52, 20, 22, 22, 53, 29, 3, 29, 54, 13, 40, 22, 22, 36, 30, 9, 2, 6, 43, 13, 52, 13, 46, 37, 17, 14, 54, 39, 32, 55, 40, 3, 20, 13, 59, 48, 42], 'NY': [31, 9, 55, 41, 0, 10, 58, 26, 36, 12, 36, 25, 45, 30, 36, 53, 54, 54, 11, 46, 5, 52, 20, 40, 30, 16, 16, 31, 10, 32, 55, 29, 34, 48, 24, 10, 4, 0, 27, 15, 30, 6, 8, 6, 14, 54, 50, 45, 10, 22, 19, 54, 12, 44, 18, 5, 32, 19, 45, 28, 46, 38, 3, 22, 4, 7, 28, 41, 3, 24, 33, 61, 46, 42, 27, 23, 50, 63, 15, 46, 56, 25, 20, 7, 35, 5, 33, 33, 55, 50], 'WA': [10, 47, 23, 55, 12, 25, 39, 40, 64, 53, 30, 23, 55, 26, 38, 3, 23, 40, 30, 34, 56, 59, 2, 24, 17, 44, 33, 23, 2, 11, 54, 52, 14]}\n"
     ]
    }
   ],
   "source": [
    "print(lots_of_noise)"
   ]
  },
  {
   "cell_type": "code",
   "execution_count": 95,
   "metadata": {},
   "outputs": [
    {
     "name": "stdout",
     "output_type": "stream",
     "text": [
      "Variable        Type              Data/Info\n",
      "-------------------------------------------\n",
      "lots_of_noise   dict              n=4\n",
      "new_df          DataFrame                  Yay  specific   <...>n\\n[100 rows x 4 columns]\n",
      "new_noise       dict              n=4\n",
      "np              module            <module 'numpy' from '/ho<...>kages/numpy/__init__.py'>\n",
      "pd              module            <module 'pandas' from '/h<...>ages/pandas/__init__.py'>\n",
      "pickle          module            <module 'pickle' from '/h<...>lib/python3.7/pickle.py'>\n",
      "random          module            <module 'random' from '/h<...>lib/python3.7/random.py'>\n",
      "read_file       BufferedReader    <_io.BufferedReader name='my_dataframe.pickle'>\n",
      "sys             module            <module 'sys' (built-in)>\n",
      "to_write        BufferedWriter    <_io.BufferedWriter name='noise.pickle'>\n"
     ]
    }
   ],
   "source": [
    "whos"
   ]
  },
  {
   "cell_type": "markdown",
   "metadata": {},
   "source": [
    "We can see in this `whos` command that the object `lots_of_noise` exists and is a `dict` with 4 keys. Nice. Now let's look at our file system and verify that there isn't a file called `noise.pickle`."
   ]
  },
  {
   "cell_type": "code",
   "execution_count": 96,
   "metadata": {},
   "outputs": [
    {
     "name": "stdout",
     "output_type": "stream",
     "text": [
      "advanced_python_datatypes.ipynb  my_dataframe.pickle\r\n",
      "complexity.md\t\t\t noise.pickle\r\n",
      "deep_and_shallow_copy.ipynb\t pickle_saving_objects_for_later.ipynb\r\n",
      "deep_copy_demo\t\t\t readme.md\r\n"
     ]
    }
   ],
   "source": [
    "!ls"
   ]
  },
  {
   "cell_type": "markdown",
   "metadata": {},
   "source": [
    "Okay, now we're ready to create a file and write the bytes to it. To do this with `pickle`, we use python's read-write streamer `open` and create a writable-binary (`wb`) file. We'll then use `pickle.dump` to put an object into that file as a string of bytes."
   ]
  },
  {
   "cell_type": "code",
   "execution_count": 97,
   "metadata": {},
   "outputs": [],
   "source": [
    "with open('noise.pickle', 'wb') as to_write:\n",
    "    pickle.dump(lots_of_noise, to_write)"
   ]
  },
  {
   "cell_type": "code",
   "execution_count": 98,
   "metadata": {},
   "outputs": [
    {
     "name": "stdout",
     "output_type": "stream",
     "text": [
      "advanced_python_datatypes.ipynb  my_dataframe.pickle\r\n",
      "complexity.md\t\t\t noise.pickle\r\n",
      "deep_and_shallow_copy.ipynb\t pickle_saving_objects_for_later.ipynb\r\n",
      "deep_copy_demo\t\t\t readme.md\r\n"
     ]
    }
   ],
   "source": [
    "!ls"
   ]
  },
  {
   "cell_type": "markdown",
   "metadata": {},
   "source": [
    "Now let's delete `lots_of_noise` and prove to ourselves it doesn't exist in Python's memory anymore."
   ]
  },
  {
   "cell_type": "code",
   "execution_count": 99,
   "metadata": {},
   "outputs": [
    {
     "ename": "NameError",
     "evalue": "name 'noise___lots_of_noise' is not defined",
     "output_type": "error",
     "traceback": [
      "\u001b[0;31m---------------------------------------------------------------------------\u001b[0m",
      "\u001b[0;31mNameError\u001b[0m                                 Traceback (most recent call last)",
      "\u001b[0;32m<ipython-input-99-9147be461f88>\u001b[0m in \u001b[0;36m<module>\u001b[0;34m\u001b[0m\n\u001b[0;32m----> 1\u001b[0;31m \u001b[0;32mdel\u001b[0m \u001b[0mnoise___lots_of_noise\u001b[0m\u001b[0;34m\u001b[0m\u001b[0;34m\u001b[0m\u001b[0m\n\u001b[0m",
      "\u001b[0;31mNameError\u001b[0m: name 'noise___lots_of_noise' is not defined"
     ]
    }
   ],
   "source": [
    "del noise___lots_of_noise"
   ]
  },
  {
   "cell_type": "code",
   "execution_count": 100,
   "metadata": {},
   "outputs": [
    {
     "name": "stdout",
     "output_type": "stream",
     "text": [
      "Variable        Type              Data/Info\n",
      "-------------------------------------------\n",
      "lots_of_noise   dict              n=4\n",
      "new_df          DataFrame                  Yay  specific   <...>n\\n[100 rows x 4 columns]\n",
      "new_noise       dict              n=4\n",
      "np              module            <module 'numpy' from '/ho<...>kages/numpy/__init__.py'>\n",
      "pd              module            <module 'pandas' from '/h<...>ages/pandas/__init__.py'>\n",
      "pickle          module            <module 'pickle' from '/h<...>lib/python3.7/pickle.py'>\n",
      "random          module            <module 'random' from '/h<...>lib/python3.7/random.py'>\n",
      "read_file       BufferedReader    <_io.BufferedReader name='my_dataframe.pickle'>\n",
      "sys             module            <module 'sys' (built-in)>\n",
      "to_write        BufferedWriter    <_io.BufferedWriter name='noise.pickle'>\n"
     ]
    }
   ],
   "source": [
    "whos"
   ]
  },
  {
   "cell_type": "code",
   "execution_count": 101,
   "metadata": {},
   "outputs": [
    {
     "name": "stdout",
     "output_type": "stream",
     "text": [
      "{'CA': [42, 42, 19, 63, 16, 48, 34, 64, 56, 43, 32, 16, 6, 53, 53, 6, 8, 60, 48, 50, 5, 30, 23, 16, 12, 6, 43, 47, 40, 33, 63, 62, 42, 49, 0, 52, 59, 56, 24, 11, 8, 23, 22, 51, 11, 12, 20, 25, 39, 3, 57, 58, 48, 0, 0, 51, 59, 48, 19, 63, 12, 8, 40, 8, 28, 51, 21, 0, 16, 51, 3, 0, 50, 56, 62, 11, 64, 33, 45, 51, 16, 46, 40, 9, 10, 3, 65, 63, 12, 43, 15, 17, 50, 3, 54, 49, 52, 1, 41, 45], 'IL': [44, 16, 51, 58, 6, 24, 45, 19, 5, 64, 40, 32, 48, 52, 20, 22, 22, 53, 29, 3, 29, 54, 13, 40, 22, 22, 36, 30, 9, 2, 6, 43, 13, 52, 13, 46, 37, 17, 14, 54, 39, 32, 55, 40, 3, 20, 13, 59, 48, 42], 'NY': [31, 9, 55, 41, 0, 10, 58, 26, 36, 12, 36, 25, 45, 30, 36, 53, 54, 54, 11, 46, 5, 52, 20, 40, 30, 16, 16, 31, 10, 32, 55, 29, 34, 48, 24, 10, 4, 0, 27, 15, 30, 6, 8, 6, 14, 54, 50, 45, 10, 22, 19, 54, 12, 44, 18, 5, 32, 19, 45, 28, 46, 38, 3, 22, 4, 7, 28, 41, 3, 24, 33, 61, 46, 42, 27, 23, 50, 63, 15, 46, 56, 25, 20, 7, 35, 5, 33, 33, 55, 50], 'WA': [10, 47, 23, 55, 12, 25, 39, 40, 64, 53, 30, 23, 55, 26, 38, 3, 23, 40, 30, 34, 56, 59, 2, 24, 17, 44, 33, 23, 2, 11, 54, 52, 14]}\n"
     ]
    }
   ],
   "source": [
    "print(lots_of_noise)"
   ]
  },
  {
   "cell_type": "markdown",
   "metadata": {},
   "source": [
    "Lovely. It's dead forever. Or is it?\n",
    "\n",
    "Let's open that `noise.pickle` file with read-binary (`rb`) mode. Then we'll ask pickle to retrieve the file with `pickle.load` and store it back in a variable."
   ]
  },
  {
   "cell_type": "code",
   "execution_count": 102,
   "metadata": {},
   "outputs": [],
   "source": [
    "with open('noise.pickle','rb') as read_file:\n",
    "    lots_of_noise = pickle.load(read_file)"
   ]
  },
  {
   "cell_type": "code",
   "execution_count": 103,
   "metadata": {},
   "outputs": [
    {
     "name": "stdout",
     "output_type": "stream",
     "text": [
      "{'CA': [42, 42, 19, 63, 16, 48, 34, 64, 56, 43, 32, 16, 6, 53, 53, 6, 8, 60, 48, 50, 5, 30, 23, 16, 12, 6, 43, 47, 40, 33, 63, 62, 42, 49, 0, 52, 59, 56, 24, 11, 8, 23, 22, 51, 11, 12, 20, 25, 39, 3, 57, 58, 48, 0, 0, 51, 59, 48, 19, 63, 12, 8, 40, 8, 28, 51, 21, 0, 16, 51, 3, 0, 50, 56, 62, 11, 64, 33, 45, 51, 16, 46, 40, 9, 10, 3, 65, 63, 12, 43, 15, 17, 50, 3, 54, 49, 52, 1, 41, 45], 'IL': [44, 16, 51, 58, 6, 24, 45, 19, 5, 64, 40, 32, 48, 52, 20, 22, 22, 53, 29, 3, 29, 54, 13, 40, 22, 22, 36, 30, 9, 2, 6, 43, 13, 52, 13, 46, 37, 17, 14, 54, 39, 32, 55, 40, 3, 20, 13, 59, 48, 42], 'NY': [31, 9, 55, 41, 0, 10, 58, 26, 36, 12, 36, 25, 45, 30, 36, 53, 54, 54, 11, 46, 5, 52, 20, 40, 30, 16, 16, 31, 10, 32, 55, 29, 34, 48, 24, 10, 4, 0, 27, 15, 30, 6, 8, 6, 14, 54, 50, 45, 10, 22, 19, 54, 12, 44, 18, 5, 32, 19, 45, 28, 46, 38, 3, 22, 4, 7, 28, 41, 3, 24, 33, 61, 46, 42, 27, 23, 50, 63, 15, 46, 56, 25, 20, 7, 35, 5, 33, 33, 55, 50], 'WA': [10, 47, 23, 55, 12, 25, 39, 40, 64, 53, 30, 23, 55, 26, 38, 3, 23, 40, 30, 34, 56, 59, 2, 24, 17, 44, 33, 23, 2, 11, 54, 52, 14]}\n"
     ]
    }
   ],
   "source": [
    "print(lots_of_noise)"
   ]
  },
  {
   "cell_type": "code",
   "execution_count": 104,
   "metadata": {},
   "outputs": [
    {
     "name": "stdout",
     "output_type": "stream",
     "text": [
      "Variable        Type              Data/Info\n",
      "-------------------------------------------\n",
      "lots_of_noise   dict              n=4\n",
      "new_df          DataFrame                  Yay  specific   <...>n\\n[100 rows x 4 columns]\n",
      "new_noise       dict              n=4\n",
      "np              module            <module 'numpy' from '/ho<...>kages/numpy/__init__.py'>\n",
      "pd              module            <module 'pandas' from '/h<...>ages/pandas/__init__.py'>\n",
      "pickle          module            <module 'pickle' from '/h<...>lib/python3.7/pickle.py'>\n",
      "random          module            <module 'random' from '/h<...>lib/python3.7/random.py'>\n",
      "read_file       BufferedReader    <_io.BufferedReader name='noise.pickle'>\n",
      "sys             module            <module 'sys' (built-in)>\n",
      "to_write        BufferedWriter    <_io.BufferedWriter name='noise.pickle'>\n"
     ]
    }
   ],
   "source": [
    "whos"
   ]
  },
  {
   "cell_type": "code",
   "execution_count": 105,
   "metadata": {},
   "outputs": [],
   "source": [
    "del lots_of_noise"
   ]
  },
  {
   "cell_type": "code",
   "execution_count": 106,
   "metadata": {},
   "outputs": [
    {
     "name": "stdout",
     "output_type": "stream",
     "text": [
      "Variable    Type              Data/Info\n",
      "---------------------------------------\n",
      "new_df      DataFrame                  Yay  specific   <...>n\\n[100 rows x 4 columns]\n",
      "new_noise   dict              n=4\n",
      "np          module            <module 'numpy' from '/ho<...>kages/numpy/__init__.py'>\n",
      "pd          module            <module 'pandas' from '/h<...>ages/pandas/__init__.py'>\n",
      "pickle      module            <module 'pickle' from '/h<...>lib/python3.7/pickle.py'>\n",
      "random      module            <module 'random' from '/h<...>lib/python3.7/random.py'>\n",
      "read_file   BufferedReader    <_io.BufferedReader name='noise.pickle'>\n",
      "sys         module            <module 'sys' (built-in)>\n",
      "to_write    BufferedWriter    <_io.BufferedWriter name='noise.pickle'>\n"
     ]
    }
   ],
   "source": [
    "whos"
   ]
  },
  {
   "cell_type": "markdown",
   "metadata": {},
   "source": [
    "Random noise lives! We retrieved the entire structure from file. Nice."
   ]
  },
  {
   "cell_type": "markdown",
   "metadata": {},
   "source": [
    "### Okay, but I don't use dictionaries... I use pandas."
   ]
  },
  {
   "cell_type": "code",
   "execution_count": 108,
   "metadata": {},
   "outputs": [
    {
     "name": "stdout",
     "output_type": "stream",
     "text": [
      "         Yay  specific    column     names\n",
      "0  -4.032419  4.069645  5.934566  0.412125\n",
      "1  -7.928737  5.200229  4.496721  3.209722\n",
      "2  -2.204825 -5.849508  4.253834 -2.894961\n",
      "3   7.507635 -3.716423  3.892929 -3.272135\n",
      "4   7.071639  9.418641  7.844245 -6.047735\n",
      "5  -5.562225 -7.424879  9.552634  8.991765\n",
      "6  -7.171024  9.556689  0.485487 -7.479874\n",
      "7  -2.929848  0.002808  3.414674 -2.132506\n",
      "8  -4.045681 -9.530158 -1.991545  3.676876\n",
      "9   4.093889  5.991335  1.612650  1.148559\n",
      "10  1.507022 -7.487110 -2.553913  9.548575\n",
      "11  0.438188 -6.949010  1.341219  7.589541\n",
      "12  1.626409 -3.876565  1.389848  2.536342\n",
      "13 -5.908100 -3.879219 -2.439521  3.473432\n",
      "14 -2.613380  4.640564  5.103722 -7.383544\n",
      "15  5.211890 -0.073308 -0.728943 -3.960117\n",
      "16 -6.208064 -7.744617 -1.417264 -9.538205\n",
      "17 -0.667586  6.779733  1.285043 -3.096698\n",
      "18  6.916067  6.047520  7.534027  4.592381\n",
      "19 -3.955876  5.078601 -1.943158 -0.370645\n",
      "20 -4.541908  9.813505  7.659572 -0.418080\n",
      "21  7.829407  6.434055  3.225919  3.362300\n",
      "22  8.647150  8.737909 -6.594048  5.302088\n",
      "23  2.782954  6.059424  4.163001  2.849143\n",
      "24 -1.650479  1.037903  4.740639 -2.049884\n",
      "25  4.314843  9.532616  1.227408 -5.543365\n",
      "26 -0.036792 -4.412403 -3.206551 -6.057977\n",
      "27  8.720477  1.010610 -7.974509  9.134322\n",
      "28 -4.677459  4.569267  4.486824  1.380400\n",
      "29  4.192431 -7.854651 -1.874666  1.679287\n",
      "30  3.884367  8.592494 -7.249260 -5.273992\n",
      "31  3.236818  1.787107 -8.343447  2.384695\n",
      "32 -2.764539  7.384924  9.340030 -3.356990\n",
      "33  3.158718  9.380176  3.300751 -5.178236\n",
      "34 -0.172075 -2.784883  6.806818 -5.739261\n",
      "35  1.124398  6.279438  0.135506  8.477699\n",
      "36 -1.630860 -7.012530  3.930708 -0.637963\n",
      "37 -7.730006 -2.226944 -4.681084  7.385934\n",
      "38 -5.423038  5.744462  4.031366  7.009179\n",
      "39 -5.003376 -7.559702 -0.906622  1.775791\n",
      "40  6.850735  3.492732  5.157505 -2.728013\n",
      "41  5.530701 -1.442457 -7.944419 -5.142841\n",
      "42 -9.725311 -9.986014  1.502194 -7.414968\n",
      "43 -9.753522  6.163078  3.255650  8.322733\n",
      "44 -6.905407 -9.063437 -5.935079  5.431975\n",
      "45 -3.008383 -8.386450  4.845913  2.915234\n",
      "46  3.725862 -1.364117  3.028394  2.381748\n",
      "47 -7.090290  8.375668  8.073950 -7.340005\n",
      "48  4.847196  1.164766 -6.889455  3.681511\n",
      "49 -7.190413 -2.865044 -7.002003  7.623017\n",
      "50  2.315238  4.494810  2.506932  0.417336\n"
     ]
    },
    {
     "data": {
      "text/html": [
       "<div>\n",
       "<style scoped>\n",
       "    .dataframe tbody tr th:only-of-type {\n",
       "        vertical-align: middle;\n",
       "    }\n",
       "\n",
       "    .dataframe tbody tr th {\n",
       "        vertical-align: top;\n",
       "    }\n",
       "\n",
       "    .dataframe thead th {\n",
       "        text-align: right;\n",
       "    }\n",
       "</style>\n",
       "<table border=\"1\" class=\"dataframe\">\n",
       "  <thead>\n",
       "    <tr style=\"text-align: right;\">\n",
       "      <th></th>\n",
       "      <th>Yay</th>\n",
       "      <th>specific</th>\n",
       "      <th>column</th>\n",
       "      <th>names</th>\n",
       "    </tr>\n",
       "  </thead>\n",
       "  <tbody>\n",
       "    <tr>\n",
       "      <th>0</th>\n",
       "      <td>-4.032419</td>\n",
       "      <td>4.069645</td>\n",
       "      <td>5.934566</td>\n",
       "      <td>0.412125</td>\n",
       "    </tr>\n",
       "  </tbody>\n",
       "</table>\n",
       "</div>"
      ],
      "text/plain": [
       "        Yay  specific    column     names\n",
       "0 -4.032419  4.069645  5.934566  0.412125"
      ]
     },
     "execution_count": 108,
     "metadata": {},
     "output_type": "execute_result"
    }
   ],
   "source": [
    "import pandas as pd\n",
    "import numpy as np\n",
    "\n",
    "df = pd.DataFrame(np.random.uniform(-10,10, size=(100,4)), columns=['Yay','specific','column','names'])\n",
    "print(df.head(51))\n",
    "df.head(1)"
   ]
  },
  {
   "cell_type": "code",
   "execution_count": 88,
   "metadata": {},
   "outputs": [],
   "source": [
    "with open('my_dataframe.pickle', 'wb') as to_write:\n",
    "    pickle.dump(df, to_write)"
   ]
  },
  {
   "cell_type": "code",
   "execution_count": 89,
   "metadata": {},
   "outputs": [
    {
     "ename": "NameError",
     "evalue": "name 'df' is not defined",
     "output_type": "error",
     "traceback": [
      "\u001b[0;31m---------------------------------------------------------------------------\u001b[0m",
      "\u001b[0;31mNameError\u001b[0m                                 Traceback (most recent call last)",
      "\u001b[0;32m<ipython-input-89-3975f6306adf>\u001b[0m in \u001b[0;36m<module>\u001b[0;34m\u001b[0m\n\u001b[1;32m      1\u001b[0m \u001b[0;32mdel\u001b[0m \u001b[0mdf\u001b[0m\u001b[0;34m\u001b[0m\u001b[0;34m\u001b[0m\u001b[0m\n\u001b[1;32m      2\u001b[0m \u001b[0;34m\u001b[0m\u001b[0m\n\u001b[0;32m----> 3\u001b[0;31m \u001b[0mdf\u001b[0m\u001b[0;34m.\u001b[0m\u001b[0mhead\u001b[0m\u001b[0;34m(\u001b[0m\u001b[0;36m5\u001b[0m\u001b[0;34m)\u001b[0m\u001b[0;34m\u001b[0m\u001b[0;34m\u001b[0m\u001b[0m\n\u001b[0m",
      "\u001b[0;31mNameError\u001b[0m: name 'df' is not defined"
     ]
    }
   ],
   "source": [
    "del df\n",
    "\n",
    "df.head(5)"
   ]
  },
  {
   "cell_type": "code",
   "execution_count": 90,
   "metadata": {},
   "outputs": [
    {
     "data": {
      "text/html": [
       "<div>\n",
       "<style scoped>\n",
       "    .dataframe tbody tr th:only-of-type {\n",
       "        vertical-align: middle;\n",
       "    }\n",
       "\n",
       "    .dataframe tbody tr th {\n",
       "        vertical-align: top;\n",
       "    }\n",
       "\n",
       "    .dataframe thead th {\n",
       "        text-align: right;\n",
       "    }\n",
       "</style>\n",
       "<table border=\"1\" class=\"dataframe\">\n",
       "  <thead>\n",
       "    <tr style=\"text-align: right;\">\n",
       "      <th></th>\n",
       "      <th>Yay</th>\n",
       "      <th>specific</th>\n",
       "      <th>column</th>\n",
       "      <th>names</th>\n",
       "    </tr>\n",
       "  </thead>\n",
       "  <tbody>\n",
       "    <tr>\n",
       "      <th>0</th>\n",
       "      <td>4.949248</td>\n",
       "      <td>3.937068</td>\n",
       "      <td>3.362552</td>\n",
       "      <td>4.702868</td>\n",
       "    </tr>\n",
       "    <tr>\n",
       "      <th>1</th>\n",
       "      <td>-7.175346</td>\n",
       "      <td>-8.261988</td>\n",
       "      <td>0.557920</td>\n",
       "      <td>-5.526609</td>\n",
       "    </tr>\n",
       "    <tr>\n",
       "      <th>2</th>\n",
       "      <td>-1.064039</td>\n",
       "      <td>-0.286104</td>\n",
       "      <td>0.575972</td>\n",
       "      <td>6.555922</td>\n",
       "    </tr>\n",
       "    <tr>\n",
       "      <th>3</th>\n",
       "      <td>4.264645</td>\n",
       "      <td>7.896572</td>\n",
       "      <td>-7.694728</td>\n",
       "      <td>-6.679709</td>\n",
       "    </tr>\n",
       "    <tr>\n",
       "      <th>4</th>\n",
       "      <td>-7.233915</td>\n",
       "      <td>-7.697696</td>\n",
       "      <td>-4.674033</td>\n",
       "      <td>-2.286318</td>\n",
       "    </tr>\n",
       "  </tbody>\n",
       "</table>\n",
       "</div>"
      ],
      "text/plain": [
       "        Yay  specific    column     names\n",
       "0  4.949248  3.937068  3.362552  4.702868\n",
       "1 -7.175346 -8.261988  0.557920 -5.526609\n",
       "2 -1.064039 -0.286104  0.575972  6.555922\n",
       "3  4.264645  7.896572 -7.694728 -6.679709\n",
       "4 -7.233915 -7.697696 -4.674033 -2.286318"
      ]
     },
     "execution_count": 90,
     "metadata": {},
     "output_type": "execute_result"
    }
   ],
   "source": [
    "with open('my_dataframe.pickle','rb') as read_file:\n",
    "    new_df = pickle.load(read_file)\n",
    "    \n",
    "new_df.head(5)"
   ]
  },
  {
   "cell_type": "markdown",
   "metadata": {},
   "source": [
    "Pickle is a great tool. One recommended way of using it is to make it an end point of every step in your process. Example:\n",
    "\n",
    "* I got my data! Nice. Pickle it and stop your \"getting the data\" notebook.\n",
    "* Load your data from pickle. Clean it. Save your clean data to a new pickle.\n",
    "* Load your cleaned_data pickle. Do analysis and visualize it.\n",
    "\n",
    "This can provide natural \"pick-up-where-I-left-off-but-before-I-broke-my-data\" points. It's a great way to control the flow of your data.\n",
    "\n",
    "#### Resources\n",
    "\n",
    "https://docs.python.org/3.7/library/pickle.html"
   ]
  },
  {
   "cell_type": "code",
   "execution_count": null,
   "metadata": {},
   "outputs": [],
   "source": []
  }
 ],
 "metadata": {
  "kernelspec": {
   "display_name": "Python 3",
   "language": "python",
   "name": "python3"
  },
  "language_info": {
   "codemirror_mode": {
    "name": "ipython",
    "version": 3
   },
   "file_extension": ".py",
   "mimetype": "text/x-python",
   "name": "python",
   "nbconvert_exporter": "python",
   "pygments_lexer": "ipython3",
   "version": "3.7.6"
  }
 },
 "nbformat": 4,
 "nbformat_minor": 1
}
