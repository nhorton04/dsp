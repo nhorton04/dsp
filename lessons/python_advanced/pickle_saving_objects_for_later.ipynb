{
 "cells": [
  {
   "cell_type": "code",
   "execution_count": 50,
   "metadata": {},
   "outputs": [
    {
     "name": "stdout",
     "output_type": "stream",
     "text": [
      "Python Version: 3.7.6 (default, Jan  8 2020, 19:59:22) \n",
      "[GCC 7.3.0] \n",
      "\n"
     ]
    }
   ],
   "source": [
    "import sys\n",
    "print(\"Python Version:\", sys.version, '\\n')"
   ]
  },
  {
   "cell_type": "markdown",
   "metadata": {},
   "source": [
    "# Pickle: Saving Objects for Later"
   ]
  },
  {
   "cell_type": "markdown",
   "metadata": {},
   "source": [
    "Often in data science, we'll create some model or some version of our data and want to use it later. We have many options - we can save the coefficients, or save the data to csv, or...\n",
    "\n",
    "Actually, we don't have that many options. \n",
    "\n",
    "One way to overcome that is to save the python object to a file as a serialized object. That means we convert the entire object to a bunch of bytes, save those bytes into a file, and then have the ability to unpack those bytes back into their original format later. \n",
    "\n",
    "This is done by a module called `pickle`. Let's see it in action."
   ]
  },
  {
   "cell_type": "code",
   "execution_count": 51,
   "metadata": {},
   "outputs": [],
   "source": [
    "import pickle\n",
    "import random\n",
    "\n",
    "lots_of_noise = {\n",
    "    'CA': [random.randint(0,65) for _ in range(100)],\n",
    "    'IL': [random.randint(0,65) for _ in range(50)],\n",
    "    'NY': [random.randint(0,65) for _ in range(90)],\n",
    "    'WA': [random.randint(0,65) for _ in range(33)]\n",
    "}"
   ]
  },
  {
   "cell_type": "code",
   "execution_count": 52,
   "metadata": {},
   "outputs": [
    {
     "name": "stdout",
     "output_type": "stream",
     "text": [
      "{'CA': [28, 20, 24, 33, 22, 25, 20, 4, 7, 35, 16, 54, 36, 25, 49, 2, 64, 34, 31, 54, 61, 38, 14, 6, 10, 44, 5, 35, 58, 46, 36, 28, 40, 38, 11, 3, 4, 55, 49, 27, 43, 54, 61, 24, 58, 42, 26, 20, 3, 11, 6, 33, 61, 43, 0, 45, 63, 22, 13, 34, 21, 15, 54, 42, 58, 51, 19, 40, 3, 19, 0, 17, 7, 1, 51, 24, 28, 46, 48, 9, 34, 18, 21, 33, 50, 42, 27, 41, 35, 2, 19, 48, 63, 47, 61, 40, 29, 20, 30, 41], 'IL': [42, 17, 43, 14, 33, 63, 20, 33, 60, 65, 55, 17, 35, 47, 59, 53, 6, 2, 13, 44, 56, 22, 20, 51, 27, 46, 42, 55, 49, 46, 15, 6, 19, 45, 65, 25, 41, 59, 42, 14, 47, 34, 38, 42, 11, 35, 29, 0, 46, 27], 'NY': [65, 59, 8, 48, 37, 1, 9, 36, 16, 47, 21, 62, 33, 61, 39, 51, 20, 22, 7, 1, 39, 11, 63, 12, 61, 1, 5, 55, 22, 59, 64, 48, 0, 37, 54, 16, 55, 33, 65, 64, 22, 21, 7, 43, 57, 61, 14, 45, 4, 9, 64, 14, 42, 36, 28, 59, 18, 46, 27, 15, 23, 61, 51, 31, 60, 0, 21, 42, 53, 34, 34, 60, 26, 57, 24, 57, 34, 28, 8, 5, 46, 14, 61, 48, 4, 19, 27, 17, 50, 13], 'WA': [36, 53, 13, 18, 23, 49, 16, 33, 35, 17, 45, 8, 22, 3, 34, 8, 21, 17, 52, 22, 15, 7, 57, 6, 58, 25, 28, 21, 0, 56, 47, 52, 22]}\n"
     ]
    }
   ],
   "source": [
    "print(lots_of_noise)"
   ]
  },
  {
   "cell_type": "code",
   "execution_count": 53,
   "metadata": {},
   "outputs": [
    {
     "name": "stdout",
     "output_type": "stream",
     "text": [
      "Variable        Type              Data/Info\n",
      "-------------------------------------------\n",
      "lots_of_noise   dict              n=4\n",
      "new_noise       dict              n=4\n",
      "pickle          module            <module 'pickle' from '/h<...>lib/python3.7/pickle.py'>\n",
      "random          module            <module 'random' from '/h<...>lib/python3.7/random.py'>\n",
      "read_file       BufferedReader    <_io.BufferedReader name='noise.pickle'>\n",
      "sys             module            <module 'sys' (built-in)>\n",
      "to_write        BufferedWriter    <_io.BufferedWriter name='noise.pickle'>\n"
     ]
    }
   ],
   "source": [
    "whos"
   ]
  },
  {
   "cell_type": "markdown",
   "metadata": {},
   "source": [
    "We can see in this `whos` command that the object `lots_of_noise` exists and is a `dict` with 4 keys. Nice. Now let's look at our file system and verify that there isn't a file called `noise.pickle`."
   ]
  },
  {
   "cell_type": "code",
   "execution_count": 54,
   "metadata": {},
   "outputs": [
    {
     "name": "stdout",
     "output_type": "stream",
     "text": [
      "advanced_python_datatypes.ipynb  my_dataframe.pickle\r\n",
      "complexity.md\t\t\t noise.pickle\r\n",
      "deep_and_shallow_copy.ipynb\t pickle_saving_objects_for_later.ipynb\r\n",
      "deep_copy_demo\t\t\t readme.md\r\n"
     ]
    }
   ],
   "source": [
    "!ls"
   ]
  },
  {
   "cell_type": "markdown",
   "metadata": {},
   "source": [
    "Okay, now we're ready to create a file and write the bytes to it. To do this with `pickle`, we use python's read-write streamer `open` and create a writable-binary (`wb`) file. We'll then use `pickle.dump` to put an object into that file as a string of bytes."
   ]
  },
  {
   "cell_type": "code",
   "execution_count": 55,
   "metadata": {},
   "outputs": [],
   "source": [
    "with open('noise.pickle', 'wb') as to_write:\n",
    "    pickle.dump(lots_of_noise, to_write)"
   ]
  },
  {
   "cell_type": "code",
   "execution_count": 56,
   "metadata": {},
   "outputs": [
    {
     "name": "stdout",
     "output_type": "stream",
     "text": [
      "advanced_python_datatypes.ipynb  my_dataframe.pickle\r\n",
      "complexity.md\t\t\t noise.pickle\r\n",
      "deep_and_shallow_copy.ipynb\t pickle_saving_objects_for_later.ipynb\r\n",
      "deep_copy_demo\t\t\t readme.md\r\n"
     ]
    }
   ],
   "source": [
    "!ls"
   ]
  },
  {
   "cell_type": "markdown",
   "metadata": {},
   "source": [
    "Now let's delete `lots_of_noise` and prove to ourselves it doesn't exist in Python's memory anymore."
   ]
  },
  {
   "cell_type": "code",
   "execution_count": 57,
   "metadata": {},
   "outputs": [
    {
     "ename": "NameError",
     "evalue": "name 'noise___lots_of_noise' is not defined",
     "output_type": "error",
     "traceback": [
      "\u001b[0;31m---------------------------------------------------------------------------\u001b[0m",
      "\u001b[0;31mNameError\u001b[0m                                 Traceback (most recent call last)",
      "\u001b[0;32m<ipython-input-57-9147be461f88>\u001b[0m in \u001b[0;36m<module>\u001b[0;34m\u001b[0m\n\u001b[0;32m----> 1\u001b[0;31m \u001b[0;32mdel\u001b[0m \u001b[0mnoise___lots_of_noise\u001b[0m\u001b[0;34m\u001b[0m\u001b[0;34m\u001b[0m\u001b[0m\n\u001b[0m",
      "\u001b[0;31mNameError\u001b[0m: name 'noise___lots_of_noise' is not defined"
     ]
    }
   ],
   "source": [
    "del noise___lots_of_noise"
   ]
  },
  {
   "cell_type": "code",
   "execution_count": 58,
   "metadata": {},
   "outputs": [
    {
     "name": "stdout",
     "output_type": "stream",
     "text": [
      "Variable        Type              Data/Info\n",
      "-------------------------------------------\n",
      "lots_of_noise   dict              n=4\n",
      "new_noise       dict              n=4\n",
      "pickle          module            <module 'pickle' from '/h<...>lib/python3.7/pickle.py'>\n",
      "random          module            <module 'random' from '/h<...>lib/python3.7/random.py'>\n",
      "read_file       BufferedReader    <_io.BufferedReader name='noise.pickle'>\n",
      "sys             module            <module 'sys' (built-in)>\n",
      "to_write        BufferedWriter    <_io.BufferedWriter name='noise.pickle'>\n"
     ]
    }
   ],
   "source": [
    "whos"
   ]
  },
  {
   "cell_type": "code",
   "execution_count": 59,
   "metadata": {},
   "outputs": [
    {
     "name": "stdout",
     "output_type": "stream",
     "text": [
      "{'CA': [28, 20, 24, 33, 22, 25, 20, 4, 7, 35, 16, 54, 36, 25, 49, 2, 64, 34, 31, 54, 61, 38, 14, 6, 10, 44, 5, 35, 58, 46, 36, 28, 40, 38, 11, 3, 4, 55, 49, 27, 43, 54, 61, 24, 58, 42, 26, 20, 3, 11, 6, 33, 61, 43, 0, 45, 63, 22, 13, 34, 21, 15, 54, 42, 58, 51, 19, 40, 3, 19, 0, 17, 7, 1, 51, 24, 28, 46, 48, 9, 34, 18, 21, 33, 50, 42, 27, 41, 35, 2, 19, 48, 63, 47, 61, 40, 29, 20, 30, 41], 'IL': [42, 17, 43, 14, 33, 63, 20, 33, 60, 65, 55, 17, 35, 47, 59, 53, 6, 2, 13, 44, 56, 22, 20, 51, 27, 46, 42, 55, 49, 46, 15, 6, 19, 45, 65, 25, 41, 59, 42, 14, 47, 34, 38, 42, 11, 35, 29, 0, 46, 27], 'NY': [65, 59, 8, 48, 37, 1, 9, 36, 16, 47, 21, 62, 33, 61, 39, 51, 20, 22, 7, 1, 39, 11, 63, 12, 61, 1, 5, 55, 22, 59, 64, 48, 0, 37, 54, 16, 55, 33, 65, 64, 22, 21, 7, 43, 57, 61, 14, 45, 4, 9, 64, 14, 42, 36, 28, 59, 18, 46, 27, 15, 23, 61, 51, 31, 60, 0, 21, 42, 53, 34, 34, 60, 26, 57, 24, 57, 34, 28, 8, 5, 46, 14, 61, 48, 4, 19, 27, 17, 50, 13], 'WA': [36, 53, 13, 18, 23, 49, 16, 33, 35, 17, 45, 8, 22, 3, 34, 8, 21, 17, 52, 22, 15, 7, 57, 6, 58, 25, 28, 21, 0, 56, 47, 52, 22]}\n"
     ]
    }
   ],
   "source": [
    "print(lots_of_noise)"
   ]
  },
  {
   "cell_type": "markdown",
   "metadata": {},
   "source": [
    "Lovely. It's dead forever. Or is it?\n",
    "\n",
    "Let's open that `noise.pickle` file with read-binary (`rb`) mode. Then we'll ask pickle to retrieve the file with `pickle.load` and store it back in a variable."
   ]
  },
  {
   "cell_type": "code",
   "execution_count": 68,
   "metadata": {},
   "outputs": [],
   "source": [
    "with open('noise.pickle','rb') as read_file:\n",
    "    lots_of_noise = pickle.load(read_file)"
   ]
  },
  {
   "cell_type": "code",
   "execution_count": 69,
   "metadata": {},
   "outputs": [
    {
     "name": "stdout",
     "output_type": "stream",
     "text": [
      "{'CA': [28, 20, 24, 33, 22, 25, 20, 4, 7, 35, 16, 54, 36, 25, 49, 2, 64, 34, 31, 54, 61, 38, 14, 6, 10, 44, 5, 35, 58, 46, 36, 28, 40, 38, 11, 3, 4, 55, 49, 27, 43, 54, 61, 24, 58, 42, 26, 20, 3, 11, 6, 33, 61, 43, 0, 45, 63, 22, 13, 34, 21, 15, 54, 42, 58, 51, 19, 40, 3, 19, 0, 17, 7, 1, 51, 24, 28, 46, 48, 9, 34, 18, 21, 33, 50, 42, 27, 41, 35, 2, 19, 48, 63, 47, 61, 40, 29, 20, 30, 41], 'IL': [42, 17, 43, 14, 33, 63, 20, 33, 60, 65, 55, 17, 35, 47, 59, 53, 6, 2, 13, 44, 56, 22, 20, 51, 27, 46, 42, 55, 49, 46, 15, 6, 19, 45, 65, 25, 41, 59, 42, 14, 47, 34, 38, 42, 11, 35, 29, 0, 46, 27], 'NY': [65, 59, 8, 48, 37, 1, 9, 36, 16, 47, 21, 62, 33, 61, 39, 51, 20, 22, 7, 1, 39, 11, 63, 12, 61, 1, 5, 55, 22, 59, 64, 48, 0, 37, 54, 16, 55, 33, 65, 64, 22, 21, 7, 43, 57, 61, 14, 45, 4, 9, 64, 14, 42, 36, 28, 59, 18, 46, 27, 15, 23, 61, 51, 31, 60, 0, 21, 42, 53, 34, 34, 60, 26, 57, 24, 57, 34, 28, 8, 5, 46, 14, 61, 48, 4, 19, 27, 17, 50, 13], 'WA': [36, 53, 13, 18, 23, 49, 16, 33, 35, 17, 45, 8, 22, 3, 34, 8, 21, 17, 52, 22, 15, 7, 57, 6, 58, 25, 28, 21, 0, 56, 47, 52, 22]}\n"
     ]
    }
   ],
   "source": [
    "print(lots_of_noise)"
   ]
  },
  {
   "cell_type": "code",
   "execution_count": 70,
   "metadata": {},
   "outputs": [
    {
     "name": "stdout",
     "output_type": "stream",
     "text": [
      "Variable        Type              Data/Info\n",
      "-------------------------------------------\n",
      "lots_of_noise   dict              n=4\n",
      "new_df          DataFrame                  Yay  specific   <...>n\\n[100 rows x 4 columns]\n",
      "new_noise       dict              n=4\n",
      "np              module            <module 'numpy' from '/ho<...>kages/numpy/__init__.py'>\n",
      "pd              module            <module 'pandas' from '/h<...>ages/pandas/__init__.py'>\n",
      "pickle          module            <module 'pickle' from '/h<...>lib/python3.7/pickle.py'>\n",
      "random          module            <module 'random' from '/h<...>lib/python3.7/random.py'>\n",
      "read_file       BufferedReader    <_io.BufferedReader name='noise.pickle'>\n",
      "sys             module            <module 'sys' (built-in)>\n",
      "to_write        BufferedWriter    <_io.BufferedWriter name='my_dataframe.pickle'>\n"
     ]
    }
   ],
   "source": [
    "whos"
   ]
  },
  {
   "cell_type": "code",
   "execution_count": 71,
   "metadata": {},
   "outputs": [],
   "source": [
    "del lots_of_noise"
   ]
  },
  {
   "cell_type": "code",
   "execution_count": 72,
   "metadata": {},
   "outputs": [
    {
     "name": "stdout",
     "output_type": "stream",
     "text": [
      "Variable    Type              Data/Info\n",
      "---------------------------------------\n",
      "new_df      DataFrame                  Yay  specific   <...>n\\n[100 rows x 4 columns]\n",
      "new_noise   dict              n=4\n",
      "np          module            <module 'numpy' from '/ho<...>kages/numpy/__init__.py'>\n",
      "pd          module            <module 'pandas' from '/h<...>ages/pandas/__init__.py'>\n",
      "pickle      module            <module 'pickle' from '/h<...>lib/python3.7/pickle.py'>\n",
      "random      module            <module 'random' from '/h<...>lib/python3.7/random.py'>\n",
      "read_file   BufferedReader    <_io.BufferedReader name='noise.pickle'>\n",
      "sys         module            <module 'sys' (built-in)>\n",
      "to_write    BufferedWriter    <_io.BufferedWriter name='my_dataframe.pickle'>\n"
     ]
    }
   ],
   "source": [
    "whos"
   ]
  },
  {
   "cell_type": "markdown",
   "metadata": {},
   "source": [
    "Random noise lives! We retrieved the entire structure from file. Nice."
   ]
  },
  {
   "cell_type": "markdown",
   "metadata": {},
   "source": [
    "### Okay, but I don't use dictionaries... I use pandas."
   ]
  },
  {
   "cell_type": "code",
   "execution_count": 87,
   "metadata": {},
   "outputs": [
    {
     "name": "stdout",
     "output_type": "stream",
     "text": [
      "         Yay  specific    column     names\n",
      "0   4.949248  3.937068  3.362552  4.702868\n",
      "1  -7.175346 -8.261988  0.557920 -5.526609\n",
      "2  -1.064039 -0.286104  0.575972  6.555922\n",
      "3   4.264645  7.896572 -7.694728 -6.679709\n",
      "4  -7.233915 -7.697696 -4.674033 -2.286318\n",
      "5   5.289113  8.508655  0.946548  1.023607\n",
      "6   7.096544  3.362482 -9.574892  3.486347\n",
      "7  -1.178015 -0.644481  4.455256 -6.503062\n",
      "8   5.833713 -4.791826 -1.746002 -6.000286\n",
      "9  -4.107210 -3.783934  2.891254  0.257607\n",
      "10  5.181381  2.110661  8.030854  0.022576\n",
      "11  0.572861  6.138119  5.211466 -7.391784\n",
      "12  8.107368  4.791526 -7.643358  8.617734\n",
      "13  5.560801 -6.747648 -3.489282  5.094564\n",
      "14 -4.677466  7.657904  4.449118  1.840380\n",
      "15  5.646487 -1.793175 -4.896907  7.395869\n",
      "16  1.736464 -3.765674 -8.347860  6.721403\n",
      "17 -2.947576  9.503741 -5.473911  9.875206\n",
      "18  9.246951  8.103727  9.616163 -9.316626\n",
      "19 -4.338463 -2.793352 -8.124091  3.514974\n",
      "20  4.761971 -2.136822 -1.160254 -7.383557\n",
      "21 -1.264588  9.616931  5.723246  0.476931\n",
      "22 -1.146484  6.780409 -7.577411  6.333527\n",
      "23  0.693320  9.984770 -5.601475  2.156057\n",
      "24  8.287991  4.503231  6.092947  9.596146\n",
      "25  7.432847  5.855491  3.520118  7.133867\n",
      "26 -6.786087 -3.667605  2.023393  7.108662\n",
      "27 -5.535215  2.156084  3.136760  1.313147\n",
      "28  3.054238 -8.438877  1.842040  4.745868\n",
      "29 -8.523158  3.528680  5.681750 -9.599284\n",
      "30  6.115783  0.486195  5.098168  9.688314\n",
      "31 -9.171689  6.923003 -8.023845  0.172654\n",
      "32  4.814589  5.253302 -4.990271 -8.188526\n",
      "33 -8.116517  6.406301  3.954592 -1.021469\n",
      "34  5.630594  3.906530  2.186433  5.171119\n",
      "35 -4.384104 -2.339849  2.891063 -3.048930\n",
      "36  6.687521  5.934011 -6.219879  7.395569\n",
      "37  3.308471  4.323994  7.221823 -0.360019\n",
      "38  5.099576  2.603990  7.814291  3.140939\n",
      "39  1.459764  1.165984  7.069474  5.400128\n",
      "40 -8.023200 -7.985825 -5.495202  2.202693\n",
      "41  3.066708 -1.321440  4.194416 -3.922552\n",
      "42  9.220503  3.152778  1.126191  2.247434\n",
      "43 -1.698831  0.293328 -3.741666  8.258258\n",
      "44  5.579819 -1.629489 -7.743159  9.196726\n",
      "45  9.367784  7.202787  2.363619  3.539527\n",
      "46  2.691703  5.719936  7.630408  8.696252\n",
      "47 -9.533492 -1.600347  5.331371  6.021972\n",
      "48 -1.984635  0.590846  2.715767  1.862210\n",
      "49 -7.312043 -2.189130 -8.392664  7.411663\n",
      "50 -7.042222  9.870128  4.017027 -2.312776\n"
     ]
    },
    {
     "data": {
      "text/html": [
       "<div>\n",
       "<style scoped>\n",
       "    .dataframe tbody tr th:only-of-type {\n",
       "        vertical-align: middle;\n",
       "    }\n",
       "\n",
       "    .dataframe tbody tr th {\n",
       "        vertical-align: top;\n",
       "    }\n",
       "\n",
       "    .dataframe thead th {\n",
       "        text-align: right;\n",
       "    }\n",
       "</style>\n",
       "<table border=\"1\" class=\"dataframe\">\n",
       "  <thead>\n",
       "    <tr style=\"text-align: right;\">\n",
       "      <th></th>\n",
       "      <th>Yay</th>\n",
       "      <th>specific</th>\n",
       "      <th>column</th>\n",
       "      <th>names</th>\n",
       "    </tr>\n",
       "  </thead>\n",
       "  <tbody>\n",
       "    <tr>\n",
       "      <th>0</th>\n",
       "      <td>4.949248</td>\n",
       "      <td>3.937068</td>\n",
       "      <td>3.362552</td>\n",
       "      <td>4.702868</td>\n",
       "    </tr>\n",
       "  </tbody>\n",
       "</table>\n",
       "</div>"
      ],
      "text/plain": [
       "        Yay  specific    column     names\n",
       "0  4.949248  3.937068  3.362552  4.702868"
      ]
     },
     "execution_count": 87,
     "metadata": {},
     "output_type": "execute_result"
    }
   ],
   "source": [
    "import pandas as pd\n",
    "import numpy as np\n",
    "\n",
    "df = pd.DataFrame(np.random.uniform(-10,10, size=(100,4)), columns=['Yay','specific','column','names'])\n",
    "print(df.head(51))\n",
    "df.head(1)"
   ]
  },
  {
   "cell_type": "code",
   "execution_count": 88,
   "metadata": {},
   "outputs": [],
   "source": [
    "with open('my_dataframe.pickle', 'wb') as to_write:\n",
    "    pickle.dump(df, to_write)"
   ]
  },
  {
   "cell_type": "code",
   "execution_count": 89,
   "metadata": {},
   "outputs": [
    {
     "ename": "NameError",
     "evalue": "name 'df' is not defined",
     "output_type": "error",
     "traceback": [
      "\u001b[0;31m---------------------------------------------------------------------------\u001b[0m",
      "\u001b[0;31mNameError\u001b[0m                                 Traceback (most recent call last)",
      "\u001b[0;32m<ipython-input-89-3975f6306adf>\u001b[0m in \u001b[0;36m<module>\u001b[0;34m\u001b[0m\n\u001b[1;32m      1\u001b[0m \u001b[0;32mdel\u001b[0m \u001b[0mdf\u001b[0m\u001b[0;34m\u001b[0m\u001b[0;34m\u001b[0m\u001b[0m\n\u001b[1;32m      2\u001b[0m \u001b[0;34m\u001b[0m\u001b[0m\n\u001b[0;32m----> 3\u001b[0;31m \u001b[0mdf\u001b[0m\u001b[0;34m.\u001b[0m\u001b[0mhead\u001b[0m\u001b[0;34m(\u001b[0m\u001b[0;36m5\u001b[0m\u001b[0;34m)\u001b[0m\u001b[0;34m\u001b[0m\u001b[0;34m\u001b[0m\u001b[0m\n\u001b[0m",
      "\u001b[0;31mNameError\u001b[0m: name 'df' is not defined"
     ]
    }
   ],
   "source": [
    "del df\n",
    "\n",
    "df.head(5)"
   ]
  },
  {
   "cell_type": "code",
   "execution_count": 90,
   "metadata": {},
   "outputs": [
    {
     "data": {
      "text/html": [
       "<div>\n",
       "<style scoped>\n",
       "    .dataframe tbody tr th:only-of-type {\n",
       "        vertical-align: middle;\n",
       "    }\n",
       "\n",
       "    .dataframe tbody tr th {\n",
       "        vertical-align: top;\n",
       "    }\n",
       "\n",
       "    .dataframe thead th {\n",
       "        text-align: right;\n",
       "    }\n",
       "</style>\n",
       "<table border=\"1\" class=\"dataframe\">\n",
       "  <thead>\n",
       "    <tr style=\"text-align: right;\">\n",
       "      <th></th>\n",
       "      <th>Yay</th>\n",
       "      <th>specific</th>\n",
       "      <th>column</th>\n",
       "      <th>names</th>\n",
       "    </tr>\n",
       "  </thead>\n",
       "  <tbody>\n",
       "    <tr>\n",
       "      <th>0</th>\n",
       "      <td>4.949248</td>\n",
       "      <td>3.937068</td>\n",
       "      <td>3.362552</td>\n",
       "      <td>4.702868</td>\n",
       "    </tr>\n",
       "    <tr>\n",
       "      <th>1</th>\n",
       "      <td>-7.175346</td>\n",
       "      <td>-8.261988</td>\n",
       "      <td>0.557920</td>\n",
       "      <td>-5.526609</td>\n",
       "    </tr>\n",
       "    <tr>\n",
       "      <th>2</th>\n",
       "      <td>-1.064039</td>\n",
       "      <td>-0.286104</td>\n",
       "      <td>0.575972</td>\n",
       "      <td>6.555922</td>\n",
       "    </tr>\n",
       "    <tr>\n",
       "      <th>3</th>\n",
       "      <td>4.264645</td>\n",
       "      <td>7.896572</td>\n",
       "      <td>-7.694728</td>\n",
       "      <td>-6.679709</td>\n",
       "    </tr>\n",
       "    <tr>\n",
       "      <th>4</th>\n",
       "      <td>-7.233915</td>\n",
       "      <td>-7.697696</td>\n",
       "      <td>-4.674033</td>\n",
       "      <td>-2.286318</td>\n",
       "    </tr>\n",
       "  </tbody>\n",
       "</table>\n",
       "</div>"
      ],
      "text/plain": [
       "        Yay  specific    column     names\n",
       "0  4.949248  3.937068  3.362552  4.702868\n",
       "1 -7.175346 -8.261988  0.557920 -5.526609\n",
       "2 -1.064039 -0.286104  0.575972  6.555922\n",
       "3  4.264645  7.896572 -7.694728 -6.679709\n",
       "4 -7.233915 -7.697696 -4.674033 -2.286318"
      ]
     },
     "execution_count": 90,
     "metadata": {},
     "output_type": "execute_result"
    }
   ],
   "source": [
    "with open('my_dataframe.pickle','rb') as read_file:\n",
    "    new_df = pickle.load(read_file)\n",
    "    \n",
    "new_df.head(5)"
   ]
  },
  {
   "cell_type": "markdown",
   "metadata": {},
   "source": [
    "Pickle is a great tool. One recommended way of using it is to make it an end point of every step in your process. Example:\n",
    "\n",
    "* I got my data! Nice. Pickle it and stop your \"getting the data\" notebook.\n",
    "* Load your data from pickle. Clean it. Save your clean data to a new pickle.\n",
    "* Load your cleaned_data pickle. Do analysis and visualize it.\n",
    "\n",
    "This can provide natural \"pick-up-where-I-left-off-but-before-I-broke-my-data\" points. It's a great way to control the flow of your data.\n",
    "\n",
    "#### Resources\n",
    "\n",
    "https://docs.python.org/3.7/library/pickle.html"
   ]
  },
  {
   "cell_type": "code",
   "execution_count": null,
   "metadata": {},
   "outputs": [],
   "source": []
  }
 ],
 "metadata": {
  "kernelspec": {
   "display_name": "Python 3",
   "language": "python",
   "name": "python3"
  },
  "language_info": {
   "codemirror_mode": {
    "name": "ipython",
    "version": 3
   },
   "file_extension": ".py",
   "mimetype": "text/x-python",
   "name": "python",
   "nbconvert_exporter": "python",
   "pygments_lexer": "ipython3",
   "version": "3.7.6"
  }
 },
 "nbformat": 4,
 "nbformat_minor": 1
}
