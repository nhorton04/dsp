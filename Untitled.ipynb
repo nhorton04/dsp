{
 "cells": [
  {
   "cell_type": "code",
   "execution_count": 1,
   "metadata": {},
   "outputs": [
    {
     "name": "stderr",
     "output_type": "stream",
     "text": [
      "/home/nick/anaconda3/lib/python3.7/site-packages/IPython/core/interactiveshell.py:3063: DtypeWarning: Columns (9,10) have mixed types.Specify dtype option on import or set low_memory=False.\n",
      "  interactivity=interactivity, compiler=compiler, result=result)\n"
     ]
    }
   ],
   "source": [
    "import pandas as pd\n",
    "import numpy as np\n",
    "import matplotlib as plt\n",
    "\n",
    "df = pd.read_csv('http://web.mta.info/developers/data/nyct/turnstile/turnstile_190831.txt', sep=\",\", names=['Region Name'])"
   ]
  },
  {
   "cell_type": "code",
   "execution_count": 2,
   "metadata": {},
   "outputs": [
    {
     "data": {
      "text/html": [
       "<div>\n",
       "<style scoped>\n",
       "    .dataframe tbody tr th:only-of-type {\n",
       "        vertical-align: middle;\n",
       "    }\n",
       "\n",
       "    .dataframe tbody tr th {\n",
       "        vertical-align: top;\n",
       "    }\n",
       "\n",
       "    .dataframe thead th {\n",
       "        text-align: right;\n",
       "    }\n",
       "</style>\n",
       "<table border=\"1\" class=\"dataframe\">\n",
       "  <thead>\n",
       "    <tr style=\"text-align: right;\">\n",
       "      <th></th>\n",
       "      <th></th>\n",
       "      <th></th>\n",
       "      <th></th>\n",
       "      <th></th>\n",
       "      <th></th>\n",
       "      <th></th>\n",
       "      <th></th>\n",
       "      <th></th>\n",
       "      <th></th>\n",
       "      <th>Region Name</th>\n",
       "    </tr>\n",
       "  </thead>\n",
       "  <tbody>\n",
       "    <tr>\n",
       "      <th>C/A</th>\n",
       "      <th>UNIT</th>\n",
       "      <th>SCP</th>\n",
       "      <th>STATION</th>\n",
       "      <th>LINENAME</th>\n",
       "      <th>DIVISION</th>\n",
       "      <th>DATE</th>\n",
       "      <th>TIME</th>\n",
       "      <th>DESC</th>\n",
       "      <th>ENTRIES</th>\n",
       "      <td>EXITS                                         ...</td>\n",
       "    </tr>\n",
       "    <tr>\n",
       "      <th rowspan=\"4\" valign=\"top\">A002</th>\n",
       "      <th rowspan=\"4\" valign=\"top\">R051</th>\n",
       "      <th rowspan=\"4\" valign=\"top\">02-00-00</th>\n",
       "      <th rowspan=\"4\" valign=\"top\">59 ST</th>\n",
       "      <th rowspan=\"4\" valign=\"top\">NQR456W</th>\n",
       "      <th rowspan=\"4\" valign=\"top\">BMT</th>\n",
       "      <th rowspan=\"4\" valign=\"top\">08/24/2019</th>\n",
       "      <th>00:00:00</th>\n",
       "      <th>REGULAR</th>\n",
       "      <th>0007176756</th>\n",
       "      <td>0002430372                                    ...</td>\n",
       "    </tr>\n",
       "    <tr>\n",
       "      <th>04:00:00</th>\n",
       "      <th>REGULAR</th>\n",
       "      <th>0007176772</th>\n",
       "      <td>0002430375                                    ...</td>\n",
       "    </tr>\n",
       "    <tr>\n",
       "      <th>08:00:00</th>\n",
       "      <th>REGULAR</th>\n",
       "      <th>0007176786</th>\n",
       "      <td>0002430408                                    ...</td>\n",
       "    </tr>\n",
       "    <tr>\n",
       "      <th>12:00:00</th>\n",
       "      <th>REGULAR</th>\n",
       "      <th>0007176862</th>\n",
       "      <td>0002430481                                    ...</td>\n",
       "    </tr>\n",
       "  </tbody>\n",
       "</table>\n",
       "</div>"
      ],
      "text/plain": [
       "                                                                                                                           Region Name\n",
       "C/A  UNIT SCP      STATION LINENAME DIVISION DATE       TIME     DESC    ENTRIES     EXITS                                         ...\n",
       "A002 R051 02-00-00 59 ST   NQR456W  BMT      08/24/2019 00:00:00 REGULAR 0007176756  0002430372                                    ...\n",
       "                                                        04:00:00 REGULAR 0007176772  0002430375                                    ...\n",
       "                                                        08:00:00 REGULAR 0007176786  0002430408                                    ...\n",
       "                                                        12:00:00 REGULAR 0007176862  0002430481                                    ..."
      ]
     },
     "execution_count": 2,
     "metadata": {},
     "output_type": "execute_result"
    }
   ],
   "source": [
    "df.head()"
   ]
  },
  {
   "cell_type": "code",
   "execution_count": null,
   "metadata": {},
   "outputs": [],
   "source": []
  }
 ],
 "metadata": {
  "kernelspec": {
   "display_name": "Python 3",
   "language": "python",
   "name": "python3"
  },
  "language_info": {
   "codemirror_mode": {
    "name": "ipython",
    "version": 3
   },
   "file_extension": ".py",
   "mimetype": "text/x-python",
   "name": "python",
   "nbconvert_exporter": "python",
   "pygments_lexer": "ipython3",
   "version": "3.7.6"
  }
 },
 "nbformat": 4,
 "nbformat_minor": 4
}
